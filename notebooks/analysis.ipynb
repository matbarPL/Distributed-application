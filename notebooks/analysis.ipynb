{
 "cells": [
  {
   "cell_type": "code",
   "execution_count": 35,
   "metadata": {},
   "outputs": [],
   "source": [
    "import pandas as pd"
   ]
  },
  {
   "cell_type": "code",
   "execution_count": 36,
   "metadata": {},
   "outputs": [],
   "source": [
    "from matplotlib import pyplot as plt"
   ]
  },
  {
   "cell_type": "code",
   "execution_count": 37,
   "metadata": {},
   "outputs": [],
   "source": [
    "df = pd.read_excel(\"..//app//data//badania.xlsx\", index=False)"
   ]
  },
  {
   "cell_type": "code",
   "execution_count": 39,
   "metadata": {},
   "outputs": [
    {
     "data": {
      "text/html": [
       "<div>\n",
       "<style scoped>\n",
       "    .dataframe tbody tr th:only-of-type {\n",
       "        vertical-align: middle;\n",
       "    }\n",
       "\n",
       "    .dataframe tbody tr th {\n",
       "        vertical-align: top;\n",
       "    }\n",
       "\n",
       "    .dataframe thead th {\n",
       "        text-align: right;\n",
       "    }\n",
       "</style>\n",
       "<table border=\"1\" class=\"dataframe\">\n",
       "  <thead>\n",
       "    <tr style=\"text-align: right;\">\n",
       "      <th></th>\n",
       "      <th>Liczba slavow</th>\n",
       "      <th>Populacja</th>\n",
       "      <th>Maks liczba iteracji</th>\n",
       "      <th>Liczba konfliktów</th>\n",
       "      <th>Czas wykonania[s]</th>\n",
       "    </tr>\n",
       "  </thead>\n",
       "  <tbody>\n",
       "    <tr>\n",
       "      <th>Liczba slavow</th>\n",
       "      <td>1.000000</td>\n",
       "      <td>-0.150756</td>\n",
       "      <td>-0.005014</td>\n",
       "      <td>0.343074</td>\n",
       "      <td>-0.190252</td>\n",
       "    </tr>\n",
       "    <tr>\n",
       "      <th>Populacja</th>\n",
       "      <td>-0.150756</td>\n",
       "      <td>1.000000</td>\n",
       "      <td>-0.005543</td>\n",
       "      <td>0.166202</td>\n",
       "      <td>0.480940</td>\n",
       "    </tr>\n",
       "    <tr>\n",
       "      <th>Maks liczba iteracji</th>\n",
       "      <td>-0.005014</td>\n",
       "      <td>-0.005543</td>\n",
       "      <td>1.000000</td>\n",
       "      <td>-0.276178</td>\n",
       "      <td>0.676346</td>\n",
       "    </tr>\n",
       "    <tr>\n",
       "      <th>Liczba konfliktów</th>\n",
       "      <td>0.343074</td>\n",
       "      <td>0.166202</td>\n",
       "      <td>-0.276178</td>\n",
       "      <td>1.000000</td>\n",
       "      <td>-0.225523</td>\n",
       "    </tr>\n",
       "    <tr>\n",
       "      <th>Czas wykonania[s]</th>\n",
       "      <td>-0.190252</td>\n",
       "      <td>0.480940</td>\n",
       "      <td>0.676346</td>\n",
       "      <td>-0.225523</td>\n",
       "      <td>1.000000</td>\n",
       "    </tr>\n",
       "  </tbody>\n",
       "</table>\n",
       "</div>"
      ],
      "text/plain": [
       "                      Liczba slavow  Populacja  Maks liczba iteracji  \\\n",
       "Liczba slavow              1.000000  -0.150756             -0.005014   \n",
       "Populacja                 -0.150756   1.000000             -0.005543   \n",
       "Maks liczba iteracji      -0.005014  -0.005543              1.000000   \n",
       "Liczba konfliktów          0.343074   0.166202             -0.276178   \n",
       "Czas wykonania[s]         -0.190252   0.480940              0.676346   \n",
       "\n",
       "                      Liczba konfliktów  Czas wykonania[s]  \n",
       "Liczba slavow                  0.343074          -0.190252  \n",
       "Populacja                      0.166202           0.480940  \n",
       "Maks liczba iteracji          -0.276178           0.676346  \n",
       "Liczba konfliktów              1.000000          -0.225523  \n",
       "Czas wykonania[s]             -0.225523           1.000000  "
      ]
     },
     "execution_count": 39,
     "metadata": {},
     "output_type": "execute_result"
    }
   ],
   "source": [
    "df.corr()"
   ]
  }
 ],
 "metadata": {
  "kernelspec": {
   "display_name": "Python 3",
   "language": "python",
   "name": "python3"
  },
  "language_info": {
   "codemirror_mode": {
    "name": "ipython",
    "version": 3
   },
   "file_extension": ".py",
   "mimetype": "text/x-python",
   "name": "python",
   "nbconvert_exporter": "python",
   "pygments_lexer": "ipython3",
   "version": "3.6.5"
  }
 },
 "nbformat": 4,
 "nbformat_minor": 4
}
